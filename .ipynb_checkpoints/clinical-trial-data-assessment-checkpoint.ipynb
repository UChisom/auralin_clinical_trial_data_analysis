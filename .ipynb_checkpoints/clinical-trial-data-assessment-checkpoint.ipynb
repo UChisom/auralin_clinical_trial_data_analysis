{
 "cells": [
  {
   "cell_type": "markdown",
   "id": "3a5b6dd8",
   "metadata": {},
   "source": [
    "## Auralin Clinical Trial Data Analysis"
   ]
  },
  {
   "cell_type": "markdown",
   "id": "18b1e72a",
   "metadata": {},
   "source": [
    "### Content Outline\n",
    "1. [Description of Dataset](#topic1)\n",
    "2. Table Descriptions\n",
    "    - [`patients`: Table description](#topic2)\n",
    "    - [`treatments`: Table description](#topic3)\n",
    "    - [`adverse_reactions`: Table description](#topic7)\n",
    "3. [Assessing the data](#topic4)\n",
    "4. [Off Concepts](#topic5)\n",
    "5. [Assessment issues](#topic6)"
   ]
  },
  {
   "cell_type": "markdown",
   "id": "5b91b139",
   "metadata": {},
   "source": [
    "### Description of Dataset <a id='topic1'></a>\n",
    "\n",
    "The is a phase II clinical trial dataset for the new drug Auralin (hypothetical). The drug is undegoing trials and its performance is measured against the efficacy of the currently administered one - Novodra.\n",
    "\n",
    ">Auralin is supposed to be the new orally administered insulin for diabetics. Novodra is based on the prevailinng syringe-injected cure already available.\n",
    "\n",
    ">This dataset is obtained from Udacity's data analysis course and was curated in close contanct with doctors to largely mimic a real trial dataset.\n",
    "\n",
    ">In this notbook, we will only be assessing the data for **cleaniness** and **tidiness** and noting our observations. Following that, the data will be cleaned and explored for insights.\n",
    "\n",
    "The dataset has three tables that will described in more detail below, to beter understand the terms and their implications"
   ]
  },
  {
   "cell_type": "code",
   "execution_count": 3,
   "id": "a6b2ce68",
   "metadata": {},
   "outputs": [],
   "source": [
    "import pandas as pd"
   ]
  },
  {
   "cell_type": "code",
   "execution_count": 4,
   "id": "fa3ec485",
   "metadata": {},
   "outputs": [
    {
     "data": {
      "text/html": [
       "<div>\n",
       "<style scoped>\n",
       "    .dataframe tbody tr th:only-of-type {\n",
       "        vertical-align: middle;\n",
       "    }\n",
       "\n",
       "    .dataframe tbody tr th {\n",
       "        vertical-align: top;\n",
       "    }\n",
       "\n",
       "    .dataframe thead th {\n",
       "        text-align: right;\n",
       "    }\n",
       "</style>\n",
       "<table border=\"1\" class=\"dataframe\">\n",
       "  <thead>\n",
       "    <tr style=\"text-align: right;\">\n",
       "      <th></th>\n",
       "      <th>patient_id</th>\n",
       "      <th>assigned_sex</th>\n",
       "      <th>given_name</th>\n",
       "      <th>surname</th>\n",
       "      <th>address</th>\n",
       "      <th>city</th>\n",
       "      <th>state</th>\n",
       "      <th>zip_code</th>\n",
       "      <th>country</th>\n",
       "      <th>contact</th>\n",
       "      <th>birthdate</th>\n",
       "      <th>weight</th>\n",
       "      <th>height</th>\n",
       "      <th>bmi</th>\n",
       "    </tr>\n",
       "  </thead>\n",
       "  <tbody>\n",
       "    <tr>\n",
       "      <th>0</th>\n",
       "      <td>1</td>\n",
       "      <td>female</td>\n",
       "      <td>Zoe</td>\n",
       "      <td>Wellish</td>\n",
       "      <td>576 Brown Bear Drive</td>\n",
       "      <td>Rancho California</td>\n",
       "      <td>California</td>\n",
       "      <td>92390.0</td>\n",
       "      <td>United States</td>\n",
       "      <td>951-719-9170ZoeWellish@superrito.com</td>\n",
       "      <td>7/10/1976</td>\n",
       "      <td>121.7</td>\n",
       "      <td>66</td>\n",
       "      <td>19.6</td>\n",
       "    </tr>\n",
       "    <tr>\n",
       "      <th>1</th>\n",
       "      <td>2</td>\n",
       "      <td>female</td>\n",
       "      <td>Pamela</td>\n",
       "      <td>Hill</td>\n",
       "      <td>2370 University Hill Road</td>\n",
       "      <td>Armstrong</td>\n",
       "      <td>Illinois</td>\n",
       "      <td>61812.0</td>\n",
       "      <td>United States</td>\n",
       "      <td>PamelaSHill@cuvox.de+1 (217) 569-3204</td>\n",
       "      <td>4/3/1967</td>\n",
       "      <td>118.8</td>\n",
       "      <td>66</td>\n",
       "      <td>19.2</td>\n",
       "    </tr>\n",
       "    <tr>\n",
       "      <th>2</th>\n",
       "      <td>3</td>\n",
       "      <td>male</td>\n",
       "      <td>Jae</td>\n",
       "      <td>Debord</td>\n",
       "      <td>1493 Poling Farm Road</td>\n",
       "      <td>York</td>\n",
       "      <td>Nebraska</td>\n",
       "      <td>68467.0</td>\n",
       "      <td>United States</td>\n",
       "      <td>402-363-6804JaeMDebord@gustr.com</td>\n",
       "      <td>2/19/1980</td>\n",
       "      <td>177.8</td>\n",
       "      <td>71</td>\n",
       "      <td>24.8</td>\n",
       "    </tr>\n",
       "    <tr>\n",
       "      <th>3</th>\n",
       "      <td>4</td>\n",
       "      <td>male</td>\n",
       "      <td>Liêm</td>\n",
       "      <td>Phan</td>\n",
       "      <td>2335 Webster Street</td>\n",
       "      <td>Woodbridge</td>\n",
       "      <td>NJ</td>\n",
       "      <td>7095.0</td>\n",
       "      <td>United States</td>\n",
       "      <td>PhanBaLiem@jourrapide.com+1 (732) 636-8246</td>\n",
       "      <td>7/26/1951</td>\n",
       "      <td>220.9</td>\n",
       "      <td>70</td>\n",
       "      <td>31.7</td>\n",
       "    </tr>\n",
       "    <tr>\n",
       "      <th>4</th>\n",
       "      <td>5</td>\n",
       "      <td>male</td>\n",
       "      <td>Tim</td>\n",
       "      <td>Neudorf</td>\n",
       "      <td>1428 Turkey Pen Lane</td>\n",
       "      <td>Dothan</td>\n",
       "      <td>AL</td>\n",
       "      <td>36303.0</td>\n",
       "      <td>United States</td>\n",
       "      <td>334-515-7487TimNeudorf@cuvox.de</td>\n",
       "      <td>2/18/1928</td>\n",
       "      <td>192.3</td>\n",
       "      <td>27</td>\n",
       "      <td>26.1</td>\n",
       "    </tr>\n",
       "    <tr>\n",
       "      <th>5</th>\n",
       "      <td>6</td>\n",
       "      <td>male</td>\n",
       "      <td>Rafael</td>\n",
       "      <td>Costa</td>\n",
       "      <td>1140 Willis Avenue</td>\n",
       "      <td>Daytona Beach</td>\n",
       "      <td>Florida</td>\n",
       "      <td>32114.0</td>\n",
       "      <td>United States</td>\n",
       "      <td>386-334-5237RafaelCardosoCosta@gustr.com</td>\n",
       "      <td>8/31/1931</td>\n",
       "      <td>183.9</td>\n",
       "      <td>70</td>\n",
       "      <td>26.4</td>\n",
       "    </tr>\n",
       "    <tr>\n",
       "      <th>6</th>\n",
       "      <td>7</td>\n",
       "      <td>female</td>\n",
       "      <td>Mary</td>\n",
       "      <td>Adams</td>\n",
       "      <td>3145 Sheila Lane</td>\n",
       "      <td>Burbank</td>\n",
       "      <td>NV</td>\n",
       "      <td>84728.0</td>\n",
       "      <td>United States</td>\n",
       "      <td>775-533-5933MaryBAdams@einrot.com</td>\n",
       "      <td>11/19/1969</td>\n",
       "      <td>146.3</td>\n",
       "      <td>65</td>\n",
       "      <td>24.3</td>\n",
       "    </tr>\n",
       "    <tr>\n",
       "      <th>7</th>\n",
       "      <td>8</td>\n",
       "      <td>female</td>\n",
       "      <td>Xiuxiu</td>\n",
       "      <td>Chang</td>\n",
       "      <td>2687 Black Oak Hollow Road</td>\n",
       "      <td>Morgan Hill</td>\n",
       "      <td>CA</td>\n",
       "      <td>95037.0</td>\n",
       "      <td>United States</td>\n",
       "      <td>XiuxiuChang@einrot.com1 408 778 3236</td>\n",
       "      <td>8/13/1958</td>\n",
       "      <td>158.0</td>\n",
       "      <td>60</td>\n",
       "      <td>30.9</td>\n",
       "    </tr>\n",
       "    <tr>\n",
       "      <th>8</th>\n",
       "      <td>9</td>\n",
       "      <td>male</td>\n",
       "      <td>Dsvid</td>\n",
       "      <td>Gustafsson</td>\n",
       "      <td>1790 Nutter Street</td>\n",
       "      <td>Kansas City</td>\n",
       "      <td>MO</td>\n",
       "      <td>64105.0</td>\n",
       "      <td>United States</td>\n",
       "      <td>816-265-9578DavidGustafsson@armyspy.com</td>\n",
       "      <td>3/6/1937</td>\n",
       "      <td>163.9</td>\n",
       "      <td>66</td>\n",
       "      <td>26.5</td>\n",
       "    </tr>\n",
       "    <tr>\n",
       "      <th>9</th>\n",
       "      <td>10</td>\n",
       "      <td>female</td>\n",
       "      <td>Sophie</td>\n",
       "      <td>Cabrera</td>\n",
       "      <td>3303 Anmoore Road</td>\n",
       "      <td>New York</td>\n",
       "      <td>New York</td>\n",
       "      <td>10011.0</td>\n",
       "      <td>United States</td>\n",
       "      <td>SophieCabreraIbarra@teleworm.us1 718 795 9124</td>\n",
       "      <td>12/3/1930</td>\n",
       "      <td>194.7</td>\n",
       "      <td>64</td>\n",
       "      <td>33.4</td>\n",
       "    </tr>\n",
       "  </tbody>\n",
       "</table>\n",
       "</div>"
      ],
      "text/plain": [
       "   patient_id assigned_sex given_name     surname                     address  \\\n",
       "0           1       female        Zoe     Wellish        576 Brown Bear Drive   \n",
       "1           2       female     Pamela        Hill   2370 University Hill Road   \n",
       "2           3         male        Jae      Debord       1493 Poling Farm Road   \n",
       "3           4         male       Liêm        Phan         2335 Webster Street   \n",
       "4           5         male        Tim     Neudorf        1428 Turkey Pen Lane   \n",
       "5           6         male     Rafael       Costa          1140 Willis Avenue   \n",
       "6           7       female       Mary       Adams            3145 Sheila Lane   \n",
       "7           8       female     Xiuxiu       Chang  2687 Black Oak Hollow Road   \n",
       "8           9         male      Dsvid  Gustafsson          1790 Nutter Street   \n",
       "9          10       female     Sophie     Cabrera           3303 Anmoore Road   \n",
       "\n",
       "                city       state  zip_code        country  \\\n",
       "0  Rancho California  California   92390.0  United States   \n",
       "1          Armstrong    Illinois   61812.0  United States   \n",
       "2               York    Nebraska   68467.0  United States   \n",
       "3         Woodbridge          NJ    7095.0  United States   \n",
       "4             Dothan          AL   36303.0  United States   \n",
       "5      Daytona Beach     Florida   32114.0  United States   \n",
       "6            Burbank          NV   84728.0  United States   \n",
       "7        Morgan Hill          CA   95037.0  United States   \n",
       "8        Kansas City          MO   64105.0  United States   \n",
       "9           New York    New York   10011.0  United States   \n",
       "\n",
       "                                         contact   birthdate  weight  height  \\\n",
       "0           951-719-9170ZoeWellish@superrito.com   7/10/1976   121.7      66   \n",
       "1          PamelaSHill@cuvox.de+1 (217) 569-3204    4/3/1967   118.8      66   \n",
       "2               402-363-6804JaeMDebord@gustr.com   2/19/1980   177.8      71   \n",
       "3     PhanBaLiem@jourrapide.com+1 (732) 636-8246   7/26/1951   220.9      70   \n",
       "4                334-515-7487TimNeudorf@cuvox.de   2/18/1928   192.3      27   \n",
       "5       386-334-5237RafaelCardosoCosta@gustr.com   8/31/1931   183.9      70   \n",
       "6              775-533-5933MaryBAdams@einrot.com  11/19/1969   146.3      65   \n",
       "7           XiuxiuChang@einrot.com1 408 778 3236   8/13/1958   158.0      60   \n",
       "8        816-265-9578DavidGustafsson@armyspy.com    3/6/1937   163.9      66   \n",
       "9  SophieCabreraIbarra@teleworm.us1 718 795 9124   12/3/1930   194.7      64   \n",
       "\n",
       "    bmi  \n",
       "0  19.6  \n",
       "1  19.2  \n",
       "2  24.8  \n",
       "3  31.7  \n",
       "4  26.1  \n",
       "5  26.4  \n",
       "6  24.3  \n",
       "7  30.9  \n",
       "8  26.5  \n",
       "9  33.4  "
      ]
     },
     "execution_count": 4,
     "metadata": {},
     "output_type": "execute_result"
    }
   ],
   "source": [
    "patients =  pd.read_csv('patients.csv')\n",
    "patients.head(10)"
   ]
  },
  {
   "cell_type": "markdown",
   "id": "daba30df",
   "metadata": {},
   "source": [
    "#### `patients`: Table description <a id='topic2'></a>\n",
    "\n",
    "`patients` columns:\n",
    "- **patient_id**: the unique identifier for each patient in the [Master Patient Index](https://en.wikipedia.org/wiki/Enterprise_master_patient_index) (i.e. patient database) of the pharmaceutical company that is producing Auralin\n",
    "- **assigned_sex**: the assigned sex of each patient at birth (male or female)\n",
    "- **given_name**: the given name (i.e. first name) of each patient\n",
    "- **surname**: the surname (i.e. last name) of each patient\n",
    "- **address**: the main address for each patient\n",
    "- **city**: the corresponding city for the main address of each patient\n",
    "- **state**: the corresponding state for the main address of each patient\n",
    "- **zip_code**: the corresponding zip code for the main address of each patient\n",
    "- **country**: the corresponding country for the main address of each patient (all United states for this clinical trial)\n",
    "- **contact**: phone number and email information for each patient\n",
    "- **birthdate**: the date of birth of each patient (month/day/year). The [inclusion criteria](https://en.wikipedia.org/wiki/Inclusion_and_exclusion_criteria) for this clinical trial is  age >= 18 *(there is no maximum age because diabetes is a [growing problem](http://www.diabetes.co.uk/diabetes-and-the-elderly.html) among the elderly population)*\n",
    "- **weight**: the weight of each patient in pounds (lbs)\n",
    "- **height**: the height of each patient in inches (in)\n",
    "- **bmi**: the Body Mass Index (BMI) of each patient. BMI is a simple calculation using a person's height and weight. The formula is BMI = kg/m<sup>2</sup> where kg is a person's weight in kilograms and m<sup>2</sup> is their height in metres squared. A BMI of 25.0 or more is overweight, while the healthy range is 18.5 to 24.9. *The [inclusion criteria](https://en.wikipedia.org/wiki/Inclusion_and_exclusion_criteria) for this clinical trial is 16 >= BMI >= 38.*"
   ]
  },
  {
   "cell_type": "code",
   "execution_count": 5,
   "id": "02ac9ff4",
   "metadata": {},
   "outputs": [
    {
     "data": {
      "text/html": [
       "<div>\n",
       "<style scoped>\n",
       "    .dataframe tbody tr th:only-of-type {\n",
       "        vertical-align: middle;\n",
       "    }\n",
       "\n",
       "    .dataframe tbody tr th {\n",
       "        vertical-align: top;\n",
       "    }\n",
       "\n",
       "    .dataframe thead th {\n",
       "        text-align: right;\n",
       "    }\n",
       "</style>\n",
       "<table border=\"1\" class=\"dataframe\">\n",
       "  <thead>\n",
       "    <tr style=\"text-align: right;\">\n",
       "      <th></th>\n",
       "      <th>given_name</th>\n",
       "      <th>surname</th>\n",
       "      <th>auralin</th>\n",
       "      <th>novodra</th>\n",
       "      <th>hba1c_start</th>\n",
       "      <th>hba1c_end</th>\n",
       "      <th>hba1c_change</th>\n",
       "    </tr>\n",
       "  </thead>\n",
       "  <tbody>\n",
       "    <tr>\n",
       "      <th>0</th>\n",
       "      <td>veronika</td>\n",
       "      <td>jindrová</td>\n",
       "      <td>41u - 48u</td>\n",
       "      <td>-</td>\n",
       "      <td>7.63</td>\n",
       "      <td>7.20</td>\n",
       "      <td>NaN</td>\n",
       "    </tr>\n",
       "    <tr>\n",
       "      <th>1</th>\n",
       "      <td>elliot</td>\n",
       "      <td>richardson</td>\n",
       "      <td>-</td>\n",
       "      <td>40u - 45u</td>\n",
       "      <td>7.56</td>\n",
       "      <td>7.09</td>\n",
       "      <td>0.97</td>\n",
       "    </tr>\n",
       "    <tr>\n",
       "      <th>2</th>\n",
       "      <td>yukitaka</td>\n",
       "      <td>takenaka</td>\n",
       "      <td>-</td>\n",
       "      <td>39u - 36u</td>\n",
       "      <td>7.68</td>\n",
       "      <td>7.25</td>\n",
       "      <td>NaN</td>\n",
       "    </tr>\n",
       "    <tr>\n",
       "      <th>3</th>\n",
       "      <td>skye</td>\n",
       "      <td>gormanston</td>\n",
       "      <td>33u - 36u</td>\n",
       "      <td>-</td>\n",
       "      <td>7.97</td>\n",
       "      <td>7.62</td>\n",
       "      <td>0.35</td>\n",
       "    </tr>\n",
       "    <tr>\n",
       "      <th>4</th>\n",
       "      <td>alissa</td>\n",
       "      <td>montez</td>\n",
       "      <td>-</td>\n",
       "      <td>33u - 29u</td>\n",
       "      <td>7.78</td>\n",
       "      <td>7.46</td>\n",
       "      <td>0.32</td>\n",
       "    </tr>\n",
       "    <tr>\n",
       "      <th>5</th>\n",
       "      <td>jasmine</td>\n",
       "      <td>sykes</td>\n",
       "      <td>-</td>\n",
       "      <td>42u - 44u</td>\n",
       "      <td>7.56</td>\n",
       "      <td>7.18</td>\n",
       "      <td>0.38</td>\n",
       "    </tr>\n",
       "    <tr>\n",
       "      <th>6</th>\n",
       "      <td>sophia</td>\n",
       "      <td>haugen</td>\n",
       "      <td>37u - 42u</td>\n",
       "      <td>-</td>\n",
       "      <td>7.65</td>\n",
       "      <td>7.27</td>\n",
       "      <td>0.38</td>\n",
       "    </tr>\n",
       "    <tr>\n",
       "      <th>7</th>\n",
       "      <td>eddie</td>\n",
       "      <td>archer</td>\n",
       "      <td>31u - 38u</td>\n",
       "      <td>-</td>\n",
       "      <td>7.89</td>\n",
       "      <td>7.55</td>\n",
       "      <td>0.34</td>\n",
       "    </tr>\n",
       "    <tr>\n",
       "      <th>8</th>\n",
       "      <td>saber</td>\n",
       "      <td>ménard</td>\n",
       "      <td>-</td>\n",
       "      <td>54u - 54u</td>\n",
       "      <td>8.08</td>\n",
       "      <td>7.70</td>\n",
       "      <td>NaN</td>\n",
       "    </tr>\n",
       "    <tr>\n",
       "      <th>9</th>\n",
       "      <td>asia</td>\n",
       "      <td>woźniak</td>\n",
       "      <td>30u - 36u</td>\n",
       "      <td>-</td>\n",
       "      <td>7.76</td>\n",
       "      <td>7.37</td>\n",
       "      <td>NaN</td>\n",
       "    </tr>\n",
       "  </tbody>\n",
       "</table>\n",
       "</div>"
      ],
      "text/plain": [
       "  given_name     surname    auralin    novodra  hba1c_start  hba1c_end  \\\n",
       "0   veronika    jindrová  41u - 48u          -         7.63       7.20   \n",
       "1     elliot  richardson          -  40u - 45u         7.56       7.09   \n",
       "2   yukitaka    takenaka          -  39u - 36u         7.68       7.25   \n",
       "3       skye  gormanston  33u - 36u          -         7.97       7.62   \n",
       "4     alissa      montez          -  33u - 29u         7.78       7.46   \n",
       "5    jasmine       sykes          -  42u - 44u         7.56       7.18   \n",
       "6     sophia      haugen  37u - 42u          -         7.65       7.27   \n",
       "7      eddie      archer  31u - 38u          -         7.89       7.55   \n",
       "8      saber      ménard          -  54u - 54u         8.08       7.70   \n",
       "9       asia     woźniak  30u - 36u          -         7.76       7.37   \n",
       "\n",
       "   hba1c_change  \n",
       "0           NaN  \n",
       "1          0.97  \n",
       "2           NaN  \n",
       "3          0.35  \n",
       "4          0.32  \n",
       "5          0.38  \n",
       "6          0.38  \n",
       "7          0.34  \n",
       "8           NaN  \n",
       "9           NaN  "
      ]
     },
     "execution_count": 5,
     "metadata": {},
     "output_type": "execute_result"
    }
   ],
   "source": [
    "treatments = pd.read_csv('treatments.csv')\n",
    "treatments.head(10)"
   ]
  },
  {
   "cell_type": "markdown",
   "id": "6c860a1b",
   "metadata": {},
   "source": [
    "#### `treatments`: Table description <a id='topic3'></a>\n",
    " \n",
    "350 patients participated in this clinical trial. None of the patients were using Novodra (a popular injectable insulin) or Auralin (the oral insulin being researched) as their primary source of insulin before.  All were experiencing elevated HbA1c levels.\n",
    "\n",
    "All 350 patients were treated with Novodra to establish a baseline HbA1c level and insulin dose. After four weeks, which isn’t enough time to capture all the change in HbA1c that can be attributed by the switch to Auralin or Novodra:\n",
    "- 175 patients switched to Auralin for 24 weeks\n",
    "- 175 patients continued using Novodra for 24 weeks\n",
    "\n",
    "`treatments` columns:\n",
    "- **given_name**: the given name of each patient in the Master Patient Index that took part in the clinical trial\n",
    "- **surname**: the surname of each patient in the Master Patient Index that took part in the clinical trial\n",
    "- **auralin**: the baseline median daily dose of insulin from the week prior to switching to Auralin (the number before the dash) *and* the ending median daily dose of insulin at the end of the 24 weeks of treatment measured over the 24th week of treatment (the number after the dash). Both are measured in units (shortform 'u'), which is the [international unit](https://en.wikipedia.org/wiki/International_unit) of measurement and the standard measurement for insulin.\n",
    "- **novodra**: same as above, except for patients that continued treatment with Novodra\n",
    "- **hba1c_start**: the patient's HbA1c level at the beginning of the first week of treatment. HbA1c stands for Hemoglobin A1c. The [HbA1c test](https://depts.washington.edu/uwcoe/healthtopics/diabetes.html) measures what the average blood sugar has been over the past three months. It is thus a powerful way to get an overall sense of how well diabetes has been controlled. Everyone with diabetes should have this test 2 to 4 times per year. Measured in %.\n",
    "- **hba1c_end**: the patient's HbA1c level at the end of the last week of treatment\n",
    "- **hba1c_change**: the change in the patient's HbA1c level from the start of treatment to the end, i.e., `hba1c_start` - `hba1c_end`. For Auralin to be deemed effective, it must be \"noninferior\" to Novodra, the current standard for insulin. This \"noninferiority\" is statistically defined as the upper bound of the 95% confidence interval being less than 0.4% for the difference between the mean HbA1c changes for Novodra and Auralin (i.e. Novodra minus Auralin)."
   ]
  },
  {
   "cell_type": "code",
   "execution_count": 6,
   "id": "62075e63",
   "metadata": {},
   "outputs": [
    {
     "data": {
      "text/html": [
       "<div>\n",
       "<style scoped>\n",
       "    .dataframe tbody tr th:only-of-type {\n",
       "        vertical-align: middle;\n",
       "    }\n",
       "\n",
       "    .dataframe tbody tr th {\n",
       "        vertical-align: top;\n",
       "    }\n",
       "\n",
       "    .dataframe thead th {\n",
       "        text-align: right;\n",
       "    }\n",
       "</style>\n",
       "<table border=\"1\" class=\"dataframe\">\n",
       "  <thead>\n",
       "    <tr style=\"text-align: right;\">\n",
       "      <th></th>\n",
       "      <th>given_name</th>\n",
       "      <th>surname</th>\n",
       "      <th>adverse_reaction</th>\n",
       "    </tr>\n",
       "  </thead>\n",
       "  <tbody>\n",
       "    <tr>\n",
       "      <th>0</th>\n",
       "      <td>berta</td>\n",
       "      <td>napolitani</td>\n",
       "      <td>injection site discomfort</td>\n",
       "    </tr>\n",
       "    <tr>\n",
       "      <th>1</th>\n",
       "      <td>lena</td>\n",
       "      <td>baer</td>\n",
       "      <td>hypoglycemia</td>\n",
       "    </tr>\n",
       "    <tr>\n",
       "      <th>2</th>\n",
       "      <td>joseph</td>\n",
       "      <td>day</td>\n",
       "      <td>hypoglycemia</td>\n",
       "    </tr>\n",
       "    <tr>\n",
       "      <th>3</th>\n",
       "      <td>flavia</td>\n",
       "      <td>fiorentino</td>\n",
       "      <td>cough</td>\n",
       "    </tr>\n",
       "    <tr>\n",
       "      <th>4</th>\n",
       "      <td>manouck</td>\n",
       "      <td>wubbels</td>\n",
       "      <td>throat irritation</td>\n",
       "    </tr>\n",
       "    <tr>\n",
       "      <th>5</th>\n",
       "      <td>jasmine</td>\n",
       "      <td>sykes</td>\n",
       "      <td>hypoglycemia</td>\n",
       "    </tr>\n",
       "    <tr>\n",
       "      <th>6</th>\n",
       "      <td>louise</td>\n",
       "      <td>johnson</td>\n",
       "      <td>hypoglycemia</td>\n",
       "    </tr>\n",
       "    <tr>\n",
       "      <th>7</th>\n",
       "      <td>albinca</td>\n",
       "      <td>komavec</td>\n",
       "      <td>hypoglycemia</td>\n",
       "    </tr>\n",
       "    <tr>\n",
       "      <th>8</th>\n",
       "      <td>noe</td>\n",
       "      <td>aranda</td>\n",
       "      <td>hypoglycemia</td>\n",
       "    </tr>\n",
       "    <tr>\n",
       "      <th>9</th>\n",
       "      <td>sofia</td>\n",
       "      <td>hermansen</td>\n",
       "      <td>injection site discomfort</td>\n",
       "    </tr>\n",
       "  </tbody>\n",
       "</table>\n",
       "</div>"
      ],
      "text/plain": [
       "  given_name     surname           adverse_reaction\n",
       "0      berta  napolitani  injection site discomfort\n",
       "1       lena        baer               hypoglycemia\n",
       "2     joseph         day               hypoglycemia\n",
       "3     flavia  fiorentino                      cough\n",
       "4    manouck     wubbels          throat irritation\n",
       "5    jasmine       sykes               hypoglycemia\n",
       "6     louise     johnson               hypoglycemia\n",
       "7    albinca     komavec               hypoglycemia\n",
       "8        noe      aranda               hypoglycemia\n",
       "9      sofia   hermansen  injection site discomfort"
      ]
     },
     "execution_count": 6,
     "metadata": {},
     "output_type": "execute_result"
    }
   ],
   "source": [
    "adverse_reactions = pd.read_csv('adverse_reactions.csv')\n",
    "adverse_reactions.head(10)"
   ]
  },
  {
   "cell_type": "markdown",
   "id": "d81648a4",
   "metadata": {},
   "source": [
    "#### `adverse_reactions`: Table description <a id='topic7><a/>\n",
    "\n",
    "`adverse_reactions` columns:\n",
    "- **given_name**: the given name of each patient in the Master Patient Index that took part in the clinical trial and had an adverse reaction (includes both patients treated Auralin and Novodra)\n",
    "- **surname**: the surname of each patient in the Master Patient Index that took part in the clinical trial and had an adverse reaction (includes both patients treated Auralin and Novodra)\n",
    "- **adverse_reaction**: the adverse reaction reported by the patient\n",
    "\n",
    "Additional useful information:\n",
    "- [Insulin resistance varies person to person](http://www.tudiabetes.org/forum/t/how-much-insulin-is-too-much-on-a-daily-basis/9804/5), which is why both starting median daily dose and ending median daily dose are required, i.e., to calculate change in dose.\n",
    "- It is important to test drugs and medical products in the people they are meant to help. People of different age, race, sex, and ethnic group must be included in clinical trials. This [diversity](https://www.clinicalleader.com/doc/an-fda-perspective-on-patient-diversity-in-clinical-trials-0001) is reflected in the `patients` table.\n",
    "- Ensuring column names are descriptive enough is an important step in acquainting yourself with the data. 'Descriptive enough' is subjective. Ideally you want short column names (so they are easier to type and read in code form) but also fully descriptive. Length vs. descriptiveness is a tradeoff and common debate (a [similar debate](https://softwareengineering.stackexchange.com/questions/176582/is-there-an-excuse-for-short-variable-names) exists for variable names). The *auralin* and *novodra* column names are probably not descriptive enough, but you'll address that later so don't worry about that for now."
   ]
  },
  {
   "cell_type": "markdown",
   "id": "772608af",
   "metadata": {},
   "source": [
    "## Assessing the data <a id='topic4'></a>\n",
    "\n",
    ">Data assessment can be done in two ways, programmatically or visually.\n",
    "\n",
    ">Programmtic assesssment is using code to seek for features of the dataset, while visual assessment is simly opening the data filein a spread sheet application or using pandas and look through the rows of it.\n",
    "\n",
    ">Directed visual assessment is when we have something in mind to discover about our dataset, whereas undirected visual assessment is randomly scrolling through it to find something out of place.\n",
    "\n"
   ]
  },
  {
   "cell_type": "code",
   "execution_count": 19,
   "id": "4a3ce132",
   "metadata": {},
   "outputs": [
    {
     "data": {
      "text/html": [
       "<div>\n",
       "<style scoped>\n",
       "    .dataframe tbody tr th:only-of-type {\n",
       "        vertical-align: middle;\n",
       "    }\n",
       "\n",
       "    .dataframe tbody tr th {\n",
       "        vertical-align: top;\n",
       "    }\n",
       "\n",
       "    .dataframe thead th {\n",
       "        text-align: right;\n",
       "    }\n",
       "</style>\n",
       "<table border=\"1\" class=\"dataframe\">\n",
       "  <thead>\n",
       "    <tr style=\"text-align: right;\">\n",
       "      <th></th>\n",
       "      <th>patient_id</th>\n",
       "      <th>assigned_sex</th>\n",
       "      <th>given_name</th>\n",
       "      <th>surname</th>\n",
       "      <th>address</th>\n",
       "      <th>city</th>\n",
       "      <th>state</th>\n",
       "      <th>zip_code</th>\n",
       "      <th>country</th>\n",
       "      <th>contact</th>\n",
       "      <th>birthdate</th>\n",
       "      <th>weight</th>\n",
       "      <th>height</th>\n",
       "      <th>bmi</th>\n",
       "    </tr>\n",
       "  </thead>\n",
       "  <tbody>\n",
       "    <tr>\n",
       "      <th>153</th>\n",
       "      <td>154</td>\n",
       "      <td>male</td>\n",
       "      <td>John</td>\n",
       "      <td>Carreiro</td>\n",
       "      <td>1463 Martha Ellen Drive</td>\n",
       "      <td>Reno</td>\n",
       "      <td>NV</td>\n",
       "      <td>89509.0</td>\n",
       "      <td>United States</td>\n",
       "      <td>JohnACarreiro@superrito.com1 775 770 7827</td>\n",
       "      <td>4/8/1976</td>\n",
       "      <td>177.8</td>\n",
       "      <td>68</td>\n",
       "      <td>27.0</td>\n",
       "    </tr>\n",
       "  </tbody>\n",
       "</table>\n",
       "</div>"
      ],
      "text/plain": [
       "     patient_id assigned_sex given_name   surname                  address  \\\n",
       "153         154         male       John  Carreiro  1463 Martha Ellen Drive   \n",
       "\n",
       "     city state  zip_code        country  \\\n",
       "153  Reno    NV   89509.0  United States   \n",
       "\n",
       "                                       contact birthdate  weight  height   bmi  \n",
       "153  JohnACarreiro@superrito.com1 775 770 7827  4/8/1976   177.8      68  27.0  "
      ]
     },
     "execution_count": 19,
     "metadata": {},
     "output_type": "execute_result"
    }
   ],
   "source": [
    "patients.query('bmi == 27')"
   ]
  },
  {
   "cell_type": "markdown",
   "id": "839c86b8",
   "metadata": {},
   "source": [
    "*Assessment is usually guided by what we want to analyse, and for this dataset, our key metric is the __change in the hba1c levels__*\n",
    "\n",
    ">The hba1c level indicates how much blood sugar there has been for a few months back. If we get the change between sstarting the trial and at its end, we can deduce how well Auralin worked compared to Novodra."
   ]
  },
  {
   "cell_type": "code",
   "execution_count": 20,
   "id": "e5597bcf",
   "metadata": {},
   "outputs": [
    {
     "name": "stdout",
     "output_type": "stream",
     "text": [
      "<class 'pandas.core.frame.DataFrame'>\n",
      "RangeIndex: 503 entries, 0 to 502\n",
      "Data columns (total 14 columns):\n",
      " #   Column        Non-Null Count  Dtype  \n",
      "---  ------        --------------  -----  \n",
      " 0   patient_id    503 non-null    int64  \n",
      " 1   assigned_sex  503 non-null    object \n",
      " 2   given_name    503 non-null    object \n",
      " 3   surname       503 non-null    object \n",
      " 4   address       491 non-null    object \n",
      " 5   city          491 non-null    object \n",
      " 6   state         491 non-null    object \n",
      " 7   zip_code      491 non-null    float64\n",
      " 8   country       491 non-null    object \n",
      " 9   contact       491 non-null    object \n",
      " 10  birthdate     503 non-null    object \n",
      " 11  weight        503 non-null    float64\n",
      " 12  height        503 non-null    int64  \n",
      " 13  bmi           503 non-null    float64\n",
      "dtypes: float64(3), int64(2), object(9)\n",
      "memory usage: 55.1+ KB\n"
     ]
    }
   ],
   "source": [
    "patients.info()"
   ]
  },
  {
   "cell_type": "code",
   "execution_count": 23,
   "id": "f3265d45",
   "metadata": {},
   "outputs": [
    {
     "data": {
      "text/html": [
       "<div>\n",
       "<style scoped>\n",
       "    .dataframe tbody tr th:only-of-type {\n",
       "        vertical-align: middle;\n",
       "    }\n",
       "\n",
       "    .dataframe tbody tr th {\n",
       "        vertical-align: top;\n",
       "    }\n",
       "\n",
       "    .dataframe thead th {\n",
       "        text-align: right;\n",
       "    }\n",
       "</style>\n",
       "<table border=\"1\" class=\"dataframe\">\n",
       "  <thead>\n",
       "    <tr style=\"text-align: right;\">\n",
       "      <th></th>\n",
       "      <th>patient_id</th>\n",
       "      <th>assigned_sex</th>\n",
       "      <th>given_name</th>\n",
       "      <th>surname</th>\n",
       "      <th>address</th>\n",
       "      <th>city</th>\n",
       "      <th>state</th>\n",
       "      <th>zip_code</th>\n",
       "      <th>country</th>\n",
       "      <th>contact</th>\n",
       "      <th>birthdate</th>\n",
       "      <th>weight</th>\n",
       "      <th>height</th>\n",
       "      <th>bmi</th>\n",
       "    </tr>\n",
       "  </thead>\n",
       "  <tbody>\n",
       "    <tr>\n",
       "      <th>209</th>\n",
       "      <td>210</td>\n",
       "      <td>female</td>\n",
       "      <td>Lalita</td>\n",
       "      <td>Eldarkhanov</td>\n",
       "      <td>NaN</td>\n",
       "      <td>NaN</td>\n",
       "      <td>NaN</td>\n",
       "      <td>NaN</td>\n",
       "      <td>NaN</td>\n",
       "      <td>NaN</td>\n",
       "      <td>8/14/1950</td>\n",
       "      <td>143.4</td>\n",
       "      <td>62</td>\n",
       "      <td>26.2</td>\n",
       "    </tr>\n",
       "    <tr>\n",
       "      <th>219</th>\n",
       "      <td>220</td>\n",
       "      <td>male</td>\n",
       "      <td>Mỹ</td>\n",
       "      <td>Quynh</td>\n",
       "      <td>NaN</td>\n",
       "      <td>NaN</td>\n",
       "      <td>NaN</td>\n",
       "      <td>NaN</td>\n",
       "      <td>NaN</td>\n",
       "      <td>NaN</td>\n",
       "      <td>4/9/1978</td>\n",
       "      <td>237.8</td>\n",
       "      <td>69</td>\n",
       "      <td>35.1</td>\n",
       "    </tr>\n",
       "    <tr>\n",
       "      <th>230</th>\n",
       "      <td>231</td>\n",
       "      <td>female</td>\n",
       "      <td>Elisabeth</td>\n",
       "      <td>Knudsen</td>\n",
       "      <td>NaN</td>\n",
       "      <td>NaN</td>\n",
       "      <td>NaN</td>\n",
       "      <td>NaN</td>\n",
       "      <td>NaN</td>\n",
       "      <td>NaN</td>\n",
       "      <td>9/23/1976</td>\n",
       "      <td>165.9</td>\n",
       "      <td>63</td>\n",
       "      <td>29.4</td>\n",
       "    </tr>\n",
       "    <tr>\n",
       "      <th>234</th>\n",
       "      <td>235</td>\n",
       "      <td>female</td>\n",
       "      <td>Martina</td>\n",
       "      <td>Tománková</td>\n",
       "      <td>NaN</td>\n",
       "      <td>NaN</td>\n",
       "      <td>NaN</td>\n",
       "      <td>NaN</td>\n",
       "      <td>NaN</td>\n",
       "      <td>NaN</td>\n",
       "      <td>4/7/1936</td>\n",
       "      <td>199.5</td>\n",
       "      <td>65</td>\n",
       "      <td>33.2</td>\n",
       "    </tr>\n",
       "    <tr>\n",
       "      <th>242</th>\n",
       "      <td>243</td>\n",
       "      <td>male</td>\n",
       "      <td>John</td>\n",
       "      <td>O'Brian</td>\n",
       "      <td>NaN</td>\n",
       "      <td>NaN</td>\n",
       "      <td>NaN</td>\n",
       "      <td>NaN</td>\n",
       "      <td>NaN</td>\n",
       "      <td>NaN</td>\n",
       "      <td>2/25/1957</td>\n",
       "      <td>205.3</td>\n",
       "      <td>74</td>\n",
       "      <td>26.4</td>\n",
       "    </tr>\n",
       "    <tr>\n",
       "      <th>249</th>\n",
       "      <td>250</td>\n",
       "      <td>male</td>\n",
       "      <td>Benjamin</td>\n",
       "      <td>Mehler</td>\n",
       "      <td>NaN</td>\n",
       "      <td>NaN</td>\n",
       "      <td>NaN</td>\n",
       "      <td>NaN</td>\n",
       "      <td>NaN</td>\n",
       "      <td>NaN</td>\n",
       "      <td>10/30/1951</td>\n",
       "      <td>146.5</td>\n",
       "      <td>69</td>\n",
       "      <td>21.6</td>\n",
       "    </tr>\n",
       "    <tr>\n",
       "      <th>257</th>\n",
       "      <td>258</td>\n",
       "      <td>male</td>\n",
       "      <td>Jin</td>\n",
       "      <td>Kung</td>\n",
       "      <td>NaN</td>\n",
       "      <td>NaN</td>\n",
       "      <td>NaN</td>\n",
       "      <td>NaN</td>\n",
       "      <td>NaN</td>\n",
       "      <td>NaN</td>\n",
       "      <td>5/17/1995</td>\n",
       "      <td>231.7</td>\n",
       "      <td>69</td>\n",
       "      <td>34.2</td>\n",
       "    </tr>\n",
       "    <tr>\n",
       "      <th>264</th>\n",
       "      <td>265</td>\n",
       "      <td>female</td>\n",
       "      <td>Wafiyyah</td>\n",
       "      <td>Asfour</td>\n",
       "      <td>NaN</td>\n",
       "      <td>NaN</td>\n",
       "      <td>NaN</td>\n",
       "      <td>NaN</td>\n",
       "      <td>NaN</td>\n",
       "      <td>NaN</td>\n",
       "      <td>11/3/1989</td>\n",
       "      <td>158.6</td>\n",
       "      <td>63</td>\n",
       "      <td>28.1</td>\n",
       "    </tr>\n",
       "    <tr>\n",
       "      <th>269</th>\n",
       "      <td>270</td>\n",
       "      <td>female</td>\n",
       "      <td>Flavia</td>\n",
       "      <td>Fiorentino</td>\n",
       "      <td>NaN</td>\n",
       "      <td>NaN</td>\n",
       "      <td>NaN</td>\n",
       "      <td>NaN</td>\n",
       "      <td>NaN</td>\n",
       "      <td>NaN</td>\n",
       "      <td>10/9/1937</td>\n",
       "      <td>175.2</td>\n",
       "      <td>61</td>\n",
       "      <td>33.1</td>\n",
       "    </tr>\n",
       "    <tr>\n",
       "      <th>278</th>\n",
       "      <td>279</td>\n",
       "      <td>female</td>\n",
       "      <td>Generosa</td>\n",
       "      <td>Cabán</td>\n",
       "      <td>NaN</td>\n",
       "      <td>NaN</td>\n",
       "      <td>NaN</td>\n",
       "      <td>NaN</td>\n",
       "      <td>NaN</td>\n",
       "      <td>NaN</td>\n",
       "      <td>12/16/1962</td>\n",
       "      <td>124.3</td>\n",
       "      <td>69</td>\n",
       "      <td>18.4</td>\n",
       "    </tr>\n",
       "    <tr>\n",
       "      <th>286</th>\n",
       "      <td>287</td>\n",
       "      <td>male</td>\n",
       "      <td>Lewis</td>\n",
       "      <td>Webb</td>\n",
       "      <td>NaN</td>\n",
       "      <td>NaN</td>\n",
       "      <td>NaN</td>\n",
       "      <td>NaN</td>\n",
       "      <td>NaN</td>\n",
       "      <td>NaN</td>\n",
       "      <td>4/1/1979</td>\n",
       "      <td>155.3</td>\n",
       "      <td>68</td>\n",
       "      <td>23.6</td>\n",
       "    </tr>\n",
       "    <tr>\n",
       "      <th>296</th>\n",
       "      <td>297</td>\n",
       "      <td>female</td>\n",
       "      <td>Chỉ</td>\n",
       "      <td>Lâm</td>\n",
       "      <td>NaN</td>\n",
       "      <td>NaN</td>\n",
       "      <td>NaN</td>\n",
       "      <td>NaN</td>\n",
       "      <td>NaN</td>\n",
       "      <td>NaN</td>\n",
       "      <td>5/14/1990</td>\n",
       "      <td>181.1</td>\n",
       "      <td>63</td>\n",
       "      <td>32.1</td>\n",
       "    </tr>\n",
       "  </tbody>\n",
       "</table>\n",
       "</div>"
      ],
      "text/plain": [
       "     patient_id assigned_sex given_name      surname address city state  \\\n",
       "209         210       female     Lalita  Eldarkhanov     NaN  NaN   NaN   \n",
       "219         220         male         Mỹ        Quynh     NaN  NaN   NaN   \n",
       "230         231       female  Elisabeth      Knudsen     NaN  NaN   NaN   \n",
       "234         235       female    Martina    Tománková     NaN  NaN   NaN   \n",
       "242         243         male       John      O'Brian     NaN  NaN   NaN   \n",
       "249         250         male   Benjamin       Mehler     NaN  NaN   NaN   \n",
       "257         258         male        Jin         Kung     NaN  NaN   NaN   \n",
       "264         265       female   Wafiyyah       Asfour     NaN  NaN   NaN   \n",
       "269         270       female     Flavia   Fiorentino     NaN  NaN   NaN   \n",
       "278         279       female   Generosa        Cabán     NaN  NaN   NaN   \n",
       "286         287         male      Lewis         Webb     NaN  NaN   NaN   \n",
       "296         297       female        Chỉ          Lâm     NaN  NaN   NaN   \n",
       "\n",
       "     zip_code country contact   birthdate  weight  height   bmi  \n",
       "209       NaN     NaN     NaN   8/14/1950   143.4      62  26.2  \n",
       "219       NaN     NaN     NaN    4/9/1978   237.8      69  35.1  \n",
       "230       NaN     NaN     NaN   9/23/1976   165.9      63  29.4  \n",
       "234       NaN     NaN     NaN    4/7/1936   199.5      65  33.2  \n",
       "242       NaN     NaN     NaN   2/25/1957   205.3      74  26.4  \n",
       "249       NaN     NaN     NaN  10/30/1951   146.5      69  21.6  \n",
       "257       NaN     NaN     NaN   5/17/1995   231.7      69  34.2  \n",
       "264       NaN     NaN     NaN   11/3/1989   158.6      63  28.1  \n",
       "269       NaN     NaN     NaN   10/9/1937   175.2      61  33.1  \n",
       "278       NaN     NaN     NaN  12/16/1962   124.3      69  18.4  \n",
       "286       NaN     NaN     NaN    4/1/1979   155.3      68  23.6  \n",
       "296       NaN     NaN     NaN   5/14/1990   181.1      63  32.1  "
      ]
     },
     "execution_count": 23,
     "metadata": {},
     "output_type": "execute_result"
    }
   ],
   "source": [
    "patients[patients.address.isnull()]"
   ]
  },
  {
   "cell_type": "markdown",
   "id": "e9d5f3bc",
   "metadata": {},
   "source": [
    "### Off Concepts <a id='topic5'></a>"
   ]
  },
  {
   "cell_type": "markdown",
   "id": "d684d583",
   "metadata": {},
   "source": [
    "### Dirty Data\n",
    "\n",
    ">Data is said to be dirt or low quality when it has some quality issues dealing with the __content__ of the dataset.\n",
    "\n",
    ">The data quality dimensions best describe how dirty a dataset is and its cause.\n",
    "\n",
    "- __completeness__ checks if we have the data that we want or are they missing eg NAN\n",
    "- __Validity__ means that the data is present but a data point or set of data points don't conform to a defined schema eg having negative values for height or age. Its not a possible occerence\n",
    "- __Accuracy__ checks whether the data points have the correct values they should hold eg recording someone's temperature reading as 65degrees rather than 85. it is not accurate\n",
    "- __Consistency__ checks  to ensure that there is a unifirm way of identifying things in the dataset. eg. surname column is not called last name in another table, using capital letters for names and lowercase fo rsame names in another table."
   ]
  },
  {
   "cell_type": "markdown",
   "id": "64415d3a",
   "metadata": {},
   "source": [
    "### Data Quality Dimensions\n",
    "- Completeness\n",
    "- Validity\n",
    "- Accuracy\n",
    "- Consistency \n",
    "\n",
    "\n",
    "While assessing our data, we could use programmatic assesssment to spot out issues. Some programmatic assessment techniques are \n",
    "- info() method\n",
    "- describe()\n",
    "- sample()\n"
   ]
  },
  {
   "cell_type": "markdown",
   "id": "1c589a97",
   "metadata": {},
   "source": [
    "### __Assessment issues__ <a id='topic6'></a>\n",
    "\n",
    "#### __Quality__\n",
    "\n",
    "`patients` table:\n",
    "- zip codes are floats and not strings\n",
    "- state column sometimes in full, other times abbreviated\n",
    "- Tim Neudorf height is 27 instead of 72\n",
    "- zip_code column sometimes has four digits instead of 5\n",
    "- patient with patient id 9 is spelt Dsvid and not David\n",
    "- some missing demographics data (eg, adress, city, state)\n",
    "- erroneous datatypes\n",
    " \n",
    "`treatments` table\n",
    "\n",
    "- missing data in the hba1c change column\n",
    "- missing data some rows of data, as total trial was 350, but records are 280\n",
    "- the 'u' in start and end dose on treatments table\n",
    "- patients names are in lower case and not title case\n",
    "- erroneous datatypes\n",
    "- inaccurate hba1c changes\n",
    "\n",
    "`adverse_reactions` table\n",
    "- patient names are in lower case\n",
    "\n",
    "\n"
   ]
  },
  {
   "cell_type": "markdown",
   "id": "edd79e40",
   "metadata": {},
   "source": [
    "#### Tidiness\n",
    ">Data can also be said to be messy or untidy. Tidiness deals with structural issues of the data set\n",
    "\n",
    ">This resulsts when the ataset does not conform to the following:\n",
    "\n",
    "- each variable forms a column\n",
    "- each obersavation froms a row\n",
    "- each type of observationat unit forms a table"
   ]
  },
  {
   "cell_type": "markdown",
   "id": "f747d49c",
   "metadata": {},
   "source": [
    "### __Tidiness__ Issues\n",
    "`patients` table\n",
    "- contact column contains two variables\n",
    "\n",
    "`treatments` table\n",
    "- contains three columns in two variables\n",
    "\n",
    "`adverse reaction` table\n",
    "- table should be combined with the treatments table \n",
    "\n",
    "_when we join the adverse_reaction and treatment tables we'll also drop the duplicated name columns. Hence, only the patients table will have names in it. The primary key for the both tables will however be the **patients id** whch doesn't change_"
   ]
  },
  {
   "cell_type": "markdown",
   "id": "073bfa2d",
   "metadata": {},
   "source": [
    "## Data Cleaning"
   ]
  },
  {
   "cell_type": "markdown",
   "id": "f3a537e4",
   "metadata": {},
   "source": [
    "After identifying the tidiness and quality issues in the dataset, now we will clean out those issues.\n",
    ">To begin, the typical order to approach cleaning will be to follow the data quality dimentions already noted.\n",
    "\n",
    "- Completeness\n",
    "- Validity\n",
    "- Accuracy\n",
    "- Consistency\n",
    "\n",
    ">However, once we have tackled completeness issues it is more important to handle the tidiness issues next.\n",
    "\n",
    ">This is because untidy data makes our cleaning process more difficult as we progress. Thus, we must ensure all the tables are as they should before we start addressing the individual issues.\n",
    "\n",
    "> After the tidiness operation, we will continue to the next data dimension quality issue (validity and so on).\n"
   ]
  },
  {
   "cell_type": "markdown",
   "id": "10884c9a",
   "metadata": {},
   "source": [
    "#### Process\n",
    "The cleaning process will be preformed systematically under the following captions:\n",
    ">**Define**\n",
    "\n",
    "Define the cleaning operation to be performed\n",
    ">**Code**\n",
    "\n",
    "Write the code to perfrom the operation\n",
    ">**Test**\n",
    "\n",
    "Test to confirm that our code worked as it should on the dataset"
   ]
  },
  {
   "cell_type": "markdown",
   "id": "375f9d0f",
   "metadata": {},
   "source": [
    "#### Create a Copy for each table\n",
    "\n",
    "**Must-Do**\n",
    "\n",
    "Before performing cleaning operations on any dataset, we must create a copy for that dataset and retain the original as it is.\n",
    "\n",
    "All cleaning operations must be performed on the copy not the main dataset (much like a back up)."
   ]
  },
  {
   "cell_type": "code",
   "execution_count": null,
   "id": "732048f6",
   "metadata": {},
   "outputs": [],
   "source": [
    "# create a copy for each dataframe\n",
    "patients_copy = patients.copy()\n",
    "treatments_copy = treatments.copy()\n",
    "adverse_reactions_copy = adverse_reactions.copy()"
   ]
  },
  {
   "cell_type": "markdown",
   "id": "028dbc15",
   "metadata": {},
   "source": [
    "\n",
    "### Cleaning all missing records first\n",
    "\n",
    "We have been provided with extra rows of data for the treatments table, we will append it to our main table by concatenating\n",
    "\n",
    "\n",
    "#### Define\n",
    "Append the new rows of treatments table data to the copied df\n",
    "\n",
    "#### Code"
   ]
  },
  {
   "cell_type": "code",
   "execution_count": null,
   "id": "0c189744",
   "metadata": {},
   "outputs": [],
   "source": [
    "treatments_cut = pd.read_csv('treatments_cut.csv')\n",
    "\n",
    "treatments_copy = pd.concat([treatments_copy, treatments_cut], ignore_index = True)"
   ]
  },
  {
   "cell_type": "markdown",
   "id": "a3da4248",
   "metadata": {},
   "source": [
    "#### Test"
   ]
  },
  {
   "cell_type": "code",
   "execution_count": null,
   "id": "40486b0b",
   "metadata": {},
   "outputs": [],
   "source": [
    "treatments_copy.shape"
   ]
  },
  {
   "cell_type": "markdown",
   "id": "4758742c",
   "metadata": {},
   "source": [
    "#### Define\n",
    "\n",
    ">Drop rows with missing demographics data (eg, adress, city, state) in patients table\n",
    "\n",
    ">Implement right operation for missing data in the hba1c change column in treatments table\n",
    "\n",
    "#### Code\n"
   ]
  },
  {
   "cell_type": "code",
   "execution_count": null,
   "id": "6f19dee3",
   "metadata": {},
   "outputs": [],
   "source": [
    "\n",
    "# obtain the indexes of row with missing addresses\n",
    "missing_address = patients_copy[patients_copy.address.isnull()].index\n",
    "\n",
    "# drop those rows wit missing addresses\n",
    "patients_copy.drop(index=missing_address, axis=0, inplace=True)\n",
    "\n",
    "# recalculate the hba1c change column to fill all the missing values in\n",
    "treatments_copy.hba1c_change = treatments_copy.hba1c_start - treatments_copy.hba1c_end"
   ]
  },
  {
   "cell_type": "markdown",
   "id": "1ff8b080",
   "metadata": {},
   "source": [
    "#### Test"
   ]
  },
  {
   "cell_type": "code",
   "execution_count": null,
   "id": "8b448e57",
   "metadata": {},
   "outputs": [],
   "source": [
    "# confirm that no more rows have missing addresses\n",
    "patients_copy[patients_copy.address.isnull()]"
   ]
  },
  {
   "cell_type": "code",
   "execution_count": null,
   "id": "fe6f0fc0",
   "metadata": {},
   "outputs": [],
   "source": [
    "# confrim that no more NAN values in hba1c change column\n",
    "treatments_copy.sample(5)"
   ]
  },
  {
   "cell_type": "markdown",
   "id": "31891ba3",
   "metadata": {},
   "source": [
    "### Moving On\n",
    "\n",
    "So, we are done with addressing the completeness issues, we need to prepare our dtaset structure to enable us perform the required operations smoothly.\n",
    "\n",
    "#### Define\n",
    "\n",
    "- contact column contains two variables patients\n",
    "- contains three columns in two variables treatment \n",
    "- adverse reactions table should be combined with the treatments table\n",
    "- given name and surname columns are duplicated (ie unnecessary for both tables) for adverse reactions and treatments \n",
    "\n",
    "#### Code"
   ]
  },
  {
   "cell_type": "code",
   "execution_count": null,
   "id": "9339c81d",
   "metadata": {},
   "outputs": [],
   "source": [
    "# preview the dataset\n",
    "patients_copy.head()\n",
    "\n",
    "# import the regex library to enable pattern matching in the dataset\n",
    "import re"
   ]
  },
  {
   "cell_type": "code",
   "execution_count": null,
   "id": "12305ac2",
   "metadata": {},
   "outputs": [],
   "source": [
    "# assign the regex pattern and extract matches from the dataset for phone numbers\n",
    "phone_regex = r\"((\\+[0-9].)?(\\(\\d{3}\\).)?([0-9].)?(\\d{3}.)?(\\d{3}.)(\\d{4}))\"\n",
    "patients_copy['phone_number'] = patients_copy.contact.str.extract(pat=phone_regex)[0]"
   ]
  },
  {
   "cell_type": "markdown",
   "id": "71577af2",
   "metadata": {},
   "source": [
    "#### Test"
   ]
  },
  {
   "cell_type": "code",
   "execution_count": null,
   "id": "0c239837",
   "metadata": {},
   "outputs": [],
   "source": [
    "patients_copy.sample(5)\n",
    "\n",
    "patients_copy[patients_copy.phone_number.isnull()]"
   ]
  },
  {
   "cell_type": "markdown",
   "id": "5d17d9a6",
   "metadata": {},
   "source": [
    "#### Code"
   ]
  },
  {
   "cell_type": "code",
   "execution_count": null,
   "id": "30a483e1",
   "metadata": {},
   "outputs": [],
   "source": [
    "# assign the regex pattern and extract matches from the dataset for emails\n",
    "email_pattern = r\"([A-Za-z][A-Za-z0-9.]*@[a-z]*\\.[a-z]*)\"\n",
    "patients_copy['email'] = patients_copy.contact.str.extract(pat=email_pattern)"
   ]
  },
  {
   "cell_type": "markdown",
   "id": "80116cbe",
   "metadata": {},
   "source": [
    "#### Test"
   ]
  },
  {
   "cell_type": "code",
   "execution_count": null,
   "id": "144c2a55",
   "metadata": {},
   "outputs": [],
   "source": [
    "print(patients_copy.email.isnull().sum())\n",
    "\n",
    "patients_copy.sample(5)"
   ]
  },
  {
   "cell_type": "code",
   "execution_count": null,
   "id": "fb3fb4a3",
   "metadata": {},
   "outputs": [],
   "source": [
    "# drop the contact column\n",
    "patients_copy.drop(columns = 'contact', inplace=True)\n",
    "patients_copy.info()"
   ]
  },
  {
   "cell_type": "markdown",
   "id": "7391c339",
   "metadata": {},
   "source": [
    "#### Define\n",
    "create the three columns contained in the two variables on the treatment table\n",
    "\n",
    "#### code\n"
   ]
  },
  {
   "cell_type": "code",
   "execution_count": null,
   "id": "22597990",
   "metadata": {},
   "outputs": [],
   "source": [
    "treatments_copy.head()\n",
    "\n",
    "# melt the treatment drug columns into a single 'treatment' column\n",
    "treatments_copy = pd.melt(treatments_copy, id_vars=['given_name', 'surname', 'hba1c_start', 'hba1c_end', 'hba1c_change'], value_vars=['auralin', 'novodra'],\n",
    " var_name='treatment', value_name = 'dosage', ignore_index=True)\n",
    "\n",
    "treatments_copy.head()"
   ]
  },
  {
   "cell_type": "markdown",
   "id": "ac60b759",
   "metadata": {},
   "source": [
    "#### Define\n",
    "\n",
    "Expand the dosage column of treatment table to separate start dose from end dose and remove the unit sign (U)"
   ]
  },
  {
   "cell_type": "code",
   "execution_count": null,
   "id": "4b7cc546",
   "metadata": {},
   "outputs": [],
   "source": [
    "treatments_copy['start_dose'] = treatments_copy.dosage.str.split(' - ').str[0].str[:2]\n",
    "treatments_copy['end_dose'] = treatments_copy.dosage.str.split(' - ').str[1].str[:2]"
   ]
  },
  {
   "cell_type": "markdown",
   "id": "ed23f879",
   "metadata": {},
   "source": [
    "#### Test"
   ]
  },
  {
   "cell_type": "code",
   "execution_count": null,
   "id": "9a44e150",
   "metadata": {},
   "outputs": [],
   "source": [
    "treatments_copy.head()"
   ]
  },
  {
   "cell_type": "code",
   "execution_count": null,
   "id": "85221586",
   "metadata": {},
   "outputs": [],
   "source": [
    "# drop all the NAN rows in start and end dose in treatments table\n",
    "treatments_copy.dropna(axis=0, inplace = True)\n",
    "treatments_copy.drop(columns = 'dosage', inplace=True)"
   ]
  },
  {
   "cell_type": "markdown",
   "id": "eede6990",
   "metadata": {},
   "source": [
    "#### Test"
   ]
  },
  {
   "cell_type": "code",
   "execution_count": null,
   "id": "cfec544b",
   "metadata": {},
   "outputs": [],
   "source": [
    "treatments_copy.reset_index(inplace=True, drop=True)\n",
    "treatments_copy.tail(5)\n",
    "\n",
    "treatments_copy.shape\n",
    "\n",
    "treatments_copy[treatments_copy.given_name == 'elliot']"
   ]
  },
  {
   "cell_type": "markdown",
   "id": "f54d0852",
   "metadata": {},
   "source": [
    "#### Define\n",
    "combine the adverse reactions table with the treatments table by merging them\n",
    "\n",
    "#### Code"
   ]
  },
  {
   "cell_type": "code",
   "execution_count": null,
   "id": "c1a98243",
   "metadata": {},
   "outputs": [],
   "source": [
    "adverse_reactions_copy.head()"
   ]
  },
  {
   "cell_type": "code",
   "execution_count": null,
   "id": "271e6e46",
   "metadata": {},
   "outputs": [],
   "source": [
    "# merge the two tables on given names and surnames\n",
    "treatments_copy = treatments_copy.merge(adverse_reactions_copy, how='left', on=['given_name', 'surname'])"
   ]
  },
  {
   "cell_type": "markdown",
   "id": "0d09f156",
   "metadata": {},
   "source": [
    "#### Define\n",
    "Since given name and surname columns are duplicated treatments table now, make the common identifier between patient and treatemnt table be the patient id. Drop the names from the treatments table\n",
    "\n",
    "#### Code"
   ]
  },
  {
   "cell_type": "code",
   "execution_count": null,
   "id": "ad6e3917",
   "metadata": {},
   "outputs": [],
   "source": [
    "\n",
    "# create a df containing only the given name, surname and patiednt id from the patients table\n",
    "df_id = patients_copy[['patient_id', 'given_name', 'surname']].copy()\n",
    "df_id\n"
   ]
  },
  {
   "cell_type": "code",
   "execution_count": null,
   "id": "4155f8e1",
   "metadata": {},
   "outputs": [],
   "source": [
    "# convert the letter case in the df_id table to lower case to match with treatment table\n",
    "df_id.given_name = df_id.given_name.str.lower()\n",
    "df_id.surname = df_id.surname.str.lower()"
   ]
  },
  {
   "cell_type": "code",
   "execution_count": null,
   "id": "e2cc2167",
   "metadata": {},
   "outputs": [],
   "source": [
    "# merge the new df with the treatments table on the given name and surname\n",
    "treatments_copy = df_id.merge(treatments_copy, how ='inner', on=['given_name', 'surname'])"
   ]
  },
  {
   "cell_type": "markdown",
   "id": "704abd49",
   "metadata": {},
   "source": [
    "#### Test"
   ]
  },
  {
   "cell_type": "code",
   "execution_count": null,
   "id": "522c67d4",
   "metadata": {},
   "outputs": [],
   "source": [
    "treatments_copy.head()"
   ]
  },
  {
   "cell_type": "code",
   "execution_count": null,
   "id": "f05ee042",
   "metadata": {},
   "outputs": [],
   "source": [
    "# drop the given name and surname columns \n",
    "treatments_copy.drop(columns = ['given_name', 'surname'], inplace=True)\n",
    "treatments_copy.reset_index(inplace=True, drop=True)\n",
    "treatments_copy"
   ]
  },
  {
   "cell_type": "markdown",
   "id": "b5c2dac5",
   "metadata": {},
   "source": [
    "#### Define\n",
    "- using the pad function, ad a zero to zip_codes in the zip_codes column with four digits instead of 5\n",
    "- convert zip codes to strings\n",
    "\n",
    "#### Code"
   ]
  },
  {
   "cell_type": "code",
   "execution_count": null,
   "id": "4d0e744b",
   "metadata": {},
   "outputs": [],
   "source": [
    "# convert the datatype of the zip_code column to string\n",
    "patients_copy.zip_code = patients_copy.zip_code.astype('str')\n",
    "\n",
    "patients_copy.zip_code = patients_copy.zip_code.str[:-2]\n",
    "\n",
    "# using the pad function to pad zeros before four digit zip codes\n",
    "patients_copy.zip_code.str.pad(5, fillchar='0')"
   ]
  },
  {
   "cell_type": "markdown",
   "id": "2fd501d2",
   "metadata": {},
   "source": [
    "#### Define\n",
    "- Change Tim Neudorf height from 27 instead to 72\n",
    "- Change patient name in id 9 from Dsvid to David\n",
    "#### Code\n"
   ]
  },
  {
   "cell_type": "code",
   "execution_count": null,
   "id": "50b1e046",
   "metadata": {},
   "outputs": [],
   "source": [
    "patients_copy.height[patients_copy.given_name == 'Tim'] = 72"
   ]
  },
  {
   "cell_type": "markdown",
   "id": "5488c20b",
   "metadata": {},
   "source": [
    "#### Test"
   ]
  },
  {
   "cell_type": "code",
   "execution_count": null,
   "id": "51e36f90",
   "metadata": {},
   "outputs": [],
   "source": [
    "patients_copy[patients_copy.given_name == 'Tim']"
   ]
  },
  {
   "cell_type": "code",
   "execution_count": null,
   "id": "8a69626c",
   "metadata": {},
   "outputs": [],
   "source": [
    "# change name in patient id 9\n",
    "patients_copy.given_name[patients_copy.patient_id == 9] = 'David'"
   ]
  },
  {
   "cell_type": "markdown",
   "id": "c78b10e0",
   "metadata": {},
   "source": [
    "#### Test"
   ]
  },
  {
   "cell_type": "code",
   "execution_count": null,
   "id": "a78c06be",
   "metadata": {},
   "outputs": [],
   "source": [
    "patients_copy[patients_copy.patient_id == 9]"
   ]
  },
  {
   "cell_type": "markdown",
   "id": "8b596fa9",
   "metadata": {},
   "source": [
    "#### Define\n",
    "- change the state names from full forms to abbreviated ones\n",
    "\n",
    "#### Code"
   ]
  },
  {
   "cell_type": "code",
   "execution_count": null,
   "id": "919d940f",
   "metadata": {},
   "outputs": [],
   "source": [
    "# find the state names that are written in full forms\n",
    "patients_copy.state.value_counts()\n",
    "\n",
    "# create a dictionary to carry the state name and its abbreviation\n",
    "states = {'California': 'CA',\n",
    "                'New York': 'NY',\n",
    "                'Illinois': 'IL',\n",
    "                'Florida': 'FL',\n",
    "                'Nebraska': 'NE'}\n",
    "\n",
    "# write the function to replace the affected names in the state column with the abbreviations in the dict\n",
    "\n",
    "def abbreviation(df):\n",
    "    if df['state'] in states.keys():\n",
    "        abb = states[df['state']]\n",
    "        return abb\n",
    "    else:\n",
    "        return df['state']\n",
    "    \n",
    "patients_copy.apply(abbreviation, axis= 1)"
   ]
  },
  {
   "cell_type": "markdown",
   "id": "6eeef76e",
   "metadata": {},
   "source": [
    "#### Define\n",
    "- Correct all erroneous datatypes of bath dfs"
   ]
  },
  {
   "cell_type": "code",
   "execution_count": null,
   "id": "fe108963",
   "metadata": {},
   "outputs": [],
   "source": [
    "patients_copy.info()"
   ]
  },
  {
   "cell_type": "markdown",
   "id": "160df2af",
   "metadata": {},
   "source": [
    "### Phone number data type\n",
    ">The phone number column shouty of type int, we have to remove all the spaces and non digit characters from it\n",
    "\n",
    "#### CODE"
   ]
  },
  {
   "cell_type": "code",
   "execution_count": null,
   "id": "ae1a064b",
   "metadata": {},
   "outputs": [],
   "source": [
    "patients_copy.phone_number = patients_copy.phone_number.str.replace(r'\\D+', '').str.pad(11, fillchar='1')"
   ]
  },
  {
   "cell_type": "markdown",
   "id": "6d94cf9e",
   "metadata": {},
   "source": [
    "#### Test"
   ]
  },
  {
   "cell_type": "code",
   "execution_count": null,
   "id": "c2756b8f",
   "metadata": {},
   "outputs": [],
   "source": [
    "patients_copy.phone_number.sample(5)"
   ]
  },
  {
   "cell_type": "code",
   "execution_count": null,
   "id": "9e3436bf",
   "metadata": {},
   "outputs": [],
   "source": [
    "# change the datatypes\n",
    "patients_copy.assigned_sex = patients_copy.assigned_sex.astype('category')\n",
    "patients_copy.zip_code = patients_copy.zip_code.astype('category')\n",
    "patients_copy.birthdate = pd.to_datetime(patients_copy.birthdate)\n",
    "\n",
    "patients_copy.info()"
   ]
  },
  {
   "cell_type": "code",
   "execution_count": null,
   "id": "0fcb75b6",
   "metadata": {},
   "outputs": [],
   "source": [
    "### Treatment table datatypes\n",
    ">Change the datatype for the start and end dose columne to int\n",
    "\n",
    "treatments_copy.info()"
   ]
  },
  {
   "cell_type": "code",
   "execution_count": null,
   "id": "15ad3804",
   "metadata": {},
   "outputs": [],
   "source": [
    "treatments_copy.start_dose = treatments_copy.start_dose.astype(int)\n",
    "treatments_copy.end_dose = treatments_copy.end_dose.astype(int)"
   ]
  },
  {
   "cell_type": "markdown",
   "id": "02fa35d7",
   "metadata": {},
   "source": [
    "#### Test"
   ]
  },
  {
   "cell_type": "code",
   "execution_count": null,
   "id": "77a67c03",
   "metadata": {},
   "outputs": [],
   "source": [
    "treatments_copy.info()"
   ]
  },
  {
   "cell_type": "markdown",
   "id": "2822f753",
   "metadata": {},
   "source": [
    "### Duplicate patients names\n",
    "Some patuients like Jakobsen, Gersten, and Taylor have more than one record. There are also some unuseful John Doe records\n",
    ">To clean them out, we'll select all rows of the df where the addresses are not duplicated"
   ]
  },
  {
   "cell_type": "code",
   "execution_count": 1,
   "id": "476c2549",
   "metadata": {
    "scrolled": true
   },
   "outputs": [
    {
     "ename": "NameError",
     "evalue": "name 'patients_copy' is not defined",
     "output_type": "error",
     "traceback": [
      "\u001b[1;31m---------------------------------------------------------------------------\u001b[0m",
      "\u001b[1;31mNameError\u001b[0m                                 Traceback (most recent call last)",
      "\u001b[1;32m~\\AppData\\Local\\Temp/ipykernel_11816/1197254047.py\u001b[0m in \u001b[0;36m<module>\u001b[1;34m\u001b[0m\n\u001b[0;32m      1\u001b[0m \u001b[1;31m# rows with duplicated address for same patients but with their nicknames\u001b[0m\u001b[1;33m\u001b[0m\u001b[1;33m\u001b[0m\u001b[0m\n\u001b[1;32m----> 2\u001b[1;33m \u001b[0mpatients_copy\u001b[0m\u001b[1;33m[\u001b[0m\u001b[0mpatients_copy\u001b[0m\u001b[1;33m.\u001b[0m\u001b[0maddress\u001b[0m\u001b[1;33m.\u001b[0m\u001b[0mduplicated\u001b[0m\u001b[1;33m(\u001b[0m\u001b[1;33m)\u001b[0m\u001b[1;33m]\u001b[0m\u001b[1;33m\u001b[0m\u001b[1;33m\u001b[0m\u001b[0m\n\u001b[0m",
      "\u001b[1;31mNameError\u001b[0m: name 'patients_copy' is not defined"
     ]
    }
   ],
   "source": [
    "# rows with duplicated address for same patients but with their nicknames\n",
    "patients_copy[patients_copy.address.duplicated()]"
   ]
  },
  {
   "cell_type": "markdown",
   "id": "4b5e1e49",
   "metadata": {},
   "source": [
    "#### Define\n",
    "select the remaining of the dataframe excluding these rows, using tilde indexing\n",
    ">NOTE that tilde (~) means 'is not'"
   ]
  },
  {
   "cell_type": "code",
   "execution_count": null,
   "id": "a34cd013",
   "metadata": {},
   "outputs": [],
   "source": [
    "# select the remaining of the dataframe excluding these rows, using tilde indexing\n",
    "patients_copy = patients_copy[~patients_copy.address.duplicated()]\n",
    "\n",
    "patients_copy"
   ]
  },
  {
   "cell_type": "code",
   "execution_count": null,
   "id": "6514fb00",
   "metadata": {},
   "outputs": [],
   "source": [
    "#### Test"
   ]
  },
  {
   "cell_type": "code",
   "execution_count": null,
   "id": "26498993",
   "metadata": {},
   "outputs": [],
   "source": [
    "patients_copy[patients_copy.surname == 'Taylor']\n",
    "\n",
    "treatments_copy.treatment.value_counts()"
   ]
  }
 ],
 "metadata": {
  "kernelspec": {
   "display_name": "Python 3 (ipykernel)",
   "language": "python",
   "name": "python3"
  },
  "language_info": {
   "codemirror_mode": {
    "name": "ipython",
    "version": 3
   },
   "file_extension": ".py",
   "mimetype": "text/x-python",
   "name": "python",
   "nbconvert_exporter": "python",
   "pygments_lexer": "ipython3",
   "version": "3.9.7"
  }
 },
 "nbformat": 4,
 "nbformat_minor": 5
}
